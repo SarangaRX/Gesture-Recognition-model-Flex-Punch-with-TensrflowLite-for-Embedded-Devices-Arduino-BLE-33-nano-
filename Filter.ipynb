{
 "cells": [
  {
   "cell_type": "code",
   "execution_count": 26,
   "id": "b21a1c3b",
   "metadata": {},
   "outputs": [],
   "source": [
    "import pandas as pd\n",
    "import numpy as np"
   ]
  },
  {
   "cell_type": "code",
   "execution_count": 27,
   "id": "52fe3624",
   "metadata": {},
   "outputs": [],
   "source": [
    "dataRaw = pd.read_csv(\"C:\\\\Users\\\\Saranga\\\\Desktop\\\\ENTC ML\\\\Day 11\\\\My\\FlexRaw.csv\",header=None)"
   ]
  },
  {
   "cell_type": "code",
   "execution_count": 28,
   "id": "81e46eee",
   "metadata": {},
   "outputs": [
    {
     "data": {
      "text/plain": [
       "(1, 7141)"
      ]
     },
     "execution_count": 28,
     "metadata": {},
     "output_type": "execute_result"
    }
   ],
   "source": [
    "dataRaw.shape"
   ]
  },
  {
   "cell_type": "code",
   "execution_count": 29,
   "id": "3bede010",
   "metadata": {},
   "outputs": [
    {
     "data": {
      "text/html": [
       "<div>\n",
       "<style scoped>\n",
       "    .dataframe tbody tr th:only-of-type {\n",
       "        vertical-align: middle;\n",
       "    }\n",
       "\n",
       "    .dataframe tbody tr th {\n",
       "        vertical-align: top;\n",
       "    }\n",
       "\n",
       "    .dataframe thead th {\n",
       "        text-align: right;\n",
       "    }\n",
       "</style>\n",
       "<table border=\"1\" class=\"dataframe\">\n",
       "  <thead>\n",
       "    <tr style=\"text-align: right;\">\n",
       "      <th></th>\n",
       "      <th>0</th>\n",
       "      <th>1</th>\n",
       "      <th>2</th>\n",
       "      <th>3</th>\n",
       "      <th>4</th>\n",
       "      <th>5</th>\n",
       "      <th>6</th>\n",
       "      <th>7</th>\n",
       "      <th>8</th>\n",
       "      <th>9</th>\n",
       "      <th>...</th>\n",
       "      <th>7131</th>\n",
       "      <th>7132</th>\n",
       "      <th>7133</th>\n",
       "      <th>7134</th>\n",
       "      <th>7135</th>\n",
       "      <th>7136</th>\n",
       "      <th>7137</th>\n",
       "      <th>7138</th>\n",
       "      <th>7139</th>\n",
       "      <th>7140</th>\n",
       "    </tr>\n",
       "  </thead>\n",
       "  <tbody>\n",
       "    <tr>\n",
       "      <th>0</th>\n",
       "      <td>0.99</td>\n",
       "      <td>-0.659</td>\n",
       "      <td>-0.513</td>\n",
       "      <td>48.828</td>\n",
       "      <td>19.653</td>\n",
       "      <td>-45.349</td>\n",
       "      <td>1.047</td>\n",
       "      <td>-0.708</td>\n",
       "      <td>-0.495</td>\n",
       "      <td>49.011</td>\n",
       "      <td>...</td>\n",
       "      <td>-4.639</td>\n",
       "      <td>-7.874</td>\n",
       "      <td>-4.456</td>\n",
       "      <td>0.568</td>\n",
       "      <td>-0.226</td>\n",
       "      <td>-0.841</td>\n",
       "      <td>-5.066</td>\n",
       "      <td>-8.545</td>\n",
       "      <td>-3.906</td>\n",
       "      <td>NaN</td>\n",
       "    </tr>\n",
       "  </tbody>\n",
       "</table>\n",
       "<p>1 rows × 7141 columns</p>\n",
       "</div>"
      ],
      "text/plain": [
       "   0      1      2       3       4       5      6      7      8       9     \\\n",
       "0  0.99 -0.659 -0.513  48.828  19.653 -45.349  1.047 -0.708 -0.495  49.011   \n",
       "\n",
       "   ...   7131   7132   7133   7134   7135   7136   7137   7138   7139  7140  \n",
       "0  ... -4.639 -7.874 -4.456  0.568 -0.226 -0.841 -5.066 -8.545 -3.906   NaN  \n",
       "\n",
       "[1 rows x 7141 columns]"
      ]
     },
     "execution_count": 29,
     "metadata": {},
     "output_type": "execute_result"
    }
   ],
   "source": [
    "dataRaw.head(1)"
   ]
  },
  {
   "cell_type": "code",
   "execution_count": 30,
   "id": "7f11f9e9",
   "metadata": {},
   "outputs": [],
   "source": [
    "df = dataRaw.iloc[0:,:7140]\n"
   ]
  },
  {
   "cell_type": "code",
   "execution_count": 31,
   "id": "6b0ef8dd",
   "metadata": {},
   "outputs": [
    {
     "data": {
      "text/plain": [
       "array([[ 0.99 , -0.659, -0.513, ..., -5.066, -8.545, -3.906]])"
      ]
     },
     "execution_count": 31,
     "metadata": {},
     "output_type": "execute_result"
    }
   ],
   "source": [
    "arr = np.array(df)\n",
    "arr"
   ]
  },
  {
   "cell_type": "code",
   "execution_count": 32,
   "id": "d15af6fc",
   "metadata": {},
   "outputs": [],
   "source": [
    "arrNew = arr.reshape(1190,6)\n"
   ]
  },
  {
   "cell_type": "code",
   "execution_count": 33,
   "id": "c129e27b",
   "metadata": {},
   "outputs": [
    {
     "data": {
      "text/plain": [
       "array([[  0.99 ,  -0.659,  -0.513,  48.828,  19.653, -45.349],\n",
       "       [  1.047,  -0.708,  -0.495,  49.011,  23.01 , -47.974],\n",
       "       [  1.072,  -0.741,  -0.466,  46.143,  25.085, -46.143],\n",
       "       ...,\n",
       "       [  0.559,  -0.225,  -0.839,  -4.395,  -7.385,  -4.456],\n",
       "       [  0.567,  -0.224,  -0.84 ,  -4.639,  -7.874,  -4.456],\n",
       "       [  0.568,  -0.226,  -0.841,  -5.066,  -8.545,  -3.906]])"
      ]
     },
     "execution_count": 33,
     "metadata": {},
     "output_type": "execute_result"
    }
   ],
   "source": [
    "arrNew"
   ]
  },
  {
   "cell_type": "code",
   "execution_count": 34,
   "id": "41db2607",
   "metadata": {},
   "outputs": [],
   "source": [
    "dfNew = pd.DataFrame(arrNew)"
   ]
  },
  {
   "cell_type": "code",
   "execution_count": 35,
   "id": "d12a07f3",
   "metadata": {},
   "outputs": [
    {
     "data": {
      "text/html": [
       "<div>\n",
       "<style scoped>\n",
       "    .dataframe tbody tr th:only-of-type {\n",
       "        vertical-align: middle;\n",
       "    }\n",
       "\n",
       "    .dataframe tbody tr th {\n",
       "        vertical-align: top;\n",
       "    }\n",
       "\n",
       "    .dataframe thead th {\n",
       "        text-align: right;\n",
       "    }\n",
       "</style>\n",
       "<table border=\"1\" class=\"dataframe\">\n",
       "  <thead>\n",
       "    <tr style=\"text-align: right;\">\n",
       "      <th></th>\n",
       "      <th>0</th>\n",
       "      <th>1</th>\n",
       "      <th>2</th>\n",
       "      <th>3</th>\n",
       "      <th>4</th>\n",
       "      <th>5</th>\n",
       "    </tr>\n",
       "  </thead>\n",
       "  <tbody>\n",
       "    <tr>\n",
       "      <th>0</th>\n",
       "      <td>0.990</td>\n",
       "      <td>-0.659</td>\n",
       "      <td>-0.513</td>\n",
       "      <td>48.828</td>\n",
       "      <td>19.653</td>\n",
       "      <td>-45.349</td>\n",
       "    </tr>\n",
       "    <tr>\n",
       "      <th>1</th>\n",
       "      <td>1.047</td>\n",
       "      <td>-0.708</td>\n",
       "      <td>-0.495</td>\n",
       "      <td>49.011</td>\n",
       "      <td>23.010</td>\n",
       "      <td>-47.974</td>\n",
       "    </tr>\n",
       "    <tr>\n",
       "      <th>2</th>\n",
       "      <td>1.072</td>\n",
       "      <td>-0.741</td>\n",
       "      <td>-0.466</td>\n",
       "      <td>46.143</td>\n",
       "      <td>25.085</td>\n",
       "      <td>-46.143</td>\n",
       "    </tr>\n",
       "    <tr>\n",
       "      <th>3</th>\n",
       "      <td>1.089</td>\n",
       "      <td>-0.740</td>\n",
       "      <td>-0.416</td>\n",
       "      <td>40.588</td>\n",
       "      <td>27.100</td>\n",
       "      <td>-42.664</td>\n",
       "    </tr>\n",
       "    <tr>\n",
       "      <th>4</th>\n",
       "      <td>1.103</td>\n",
       "      <td>-0.714</td>\n",
       "      <td>-0.404</td>\n",
       "      <td>32.227</td>\n",
       "      <td>29.724</td>\n",
       "      <td>-39.978</td>\n",
       "    </tr>\n",
       "    <tr>\n",
       "      <th>...</th>\n",
       "      <td>...</td>\n",
       "      <td>...</td>\n",
       "      <td>...</td>\n",
       "      <td>...</td>\n",
       "      <td>...</td>\n",
       "      <td>...</td>\n",
       "    </tr>\n",
       "    <tr>\n",
       "      <th>1185</th>\n",
       "      <td>0.521</td>\n",
       "      <td>-0.213</td>\n",
       "      <td>-0.835</td>\n",
       "      <td>-4.517</td>\n",
       "      <td>-7.935</td>\n",
       "      <td>-3.662</td>\n",
       "    </tr>\n",
       "    <tr>\n",
       "      <th>1186</th>\n",
       "      <td>0.541</td>\n",
       "      <td>-0.218</td>\n",
       "      <td>-0.841</td>\n",
       "      <td>-4.395</td>\n",
       "      <td>-7.141</td>\n",
       "      <td>-3.906</td>\n",
       "    </tr>\n",
       "    <tr>\n",
       "      <th>1187</th>\n",
       "      <td>0.559</td>\n",
       "      <td>-0.225</td>\n",
       "      <td>-0.839</td>\n",
       "      <td>-4.395</td>\n",
       "      <td>-7.385</td>\n",
       "      <td>-4.456</td>\n",
       "    </tr>\n",
       "    <tr>\n",
       "      <th>1188</th>\n",
       "      <td>0.567</td>\n",
       "      <td>-0.224</td>\n",
       "      <td>-0.840</td>\n",
       "      <td>-4.639</td>\n",
       "      <td>-7.874</td>\n",
       "      <td>-4.456</td>\n",
       "    </tr>\n",
       "    <tr>\n",
       "      <th>1189</th>\n",
       "      <td>0.568</td>\n",
       "      <td>-0.226</td>\n",
       "      <td>-0.841</td>\n",
       "      <td>-5.066</td>\n",
       "      <td>-8.545</td>\n",
       "      <td>-3.906</td>\n",
       "    </tr>\n",
       "  </tbody>\n",
       "</table>\n",
       "<p>1190 rows × 6 columns</p>\n",
       "</div>"
      ],
      "text/plain": [
       "          0      1      2       3       4       5\n",
       "0     0.990 -0.659 -0.513  48.828  19.653 -45.349\n",
       "1     1.047 -0.708 -0.495  49.011  23.010 -47.974\n",
       "2     1.072 -0.741 -0.466  46.143  25.085 -46.143\n",
       "3     1.089 -0.740 -0.416  40.588  27.100 -42.664\n",
       "4     1.103 -0.714 -0.404  32.227  29.724 -39.978\n",
       "...     ...    ...    ...     ...     ...     ...\n",
       "1185  0.521 -0.213 -0.835  -4.517  -7.935  -3.662\n",
       "1186  0.541 -0.218 -0.841  -4.395  -7.141  -3.906\n",
       "1187  0.559 -0.225 -0.839  -4.395  -7.385  -4.456\n",
       "1188  0.567 -0.224 -0.840  -4.639  -7.874  -4.456\n",
       "1189  0.568 -0.226 -0.841  -5.066  -8.545  -3.906\n",
       "\n",
       "[1190 rows x 6 columns]"
      ]
     },
     "execution_count": 35,
     "metadata": {},
     "output_type": "execute_result"
    }
   ],
   "source": [
    "dfNew"
   ]
  },
  {
   "cell_type": "code",
   "execution_count": 36,
   "id": "0419c3a5",
   "metadata": {},
   "outputs": [],
   "source": [
    "dfNew.columns = [\"ax\",\"ay\",\"az\",\"gx\",\"gy\",\"gz\"]"
   ]
  },
  {
   "cell_type": "code",
   "execution_count": 37,
   "id": "3c57df8b",
   "metadata": {},
   "outputs": [
    {
     "data": {
      "text/html": [
       "<div>\n",
       "<style scoped>\n",
       "    .dataframe tbody tr th:only-of-type {\n",
       "        vertical-align: middle;\n",
       "    }\n",
       "\n",
       "    .dataframe tbody tr th {\n",
       "        vertical-align: top;\n",
       "    }\n",
       "\n",
       "    .dataframe thead th {\n",
       "        text-align: right;\n",
       "    }\n",
       "</style>\n",
       "<table border=\"1\" class=\"dataframe\">\n",
       "  <thead>\n",
       "    <tr style=\"text-align: right;\">\n",
       "      <th></th>\n",
       "      <th>ax</th>\n",
       "      <th>ay</th>\n",
       "      <th>az</th>\n",
       "      <th>gx</th>\n",
       "      <th>gy</th>\n",
       "      <th>gz</th>\n",
       "    </tr>\n",
       "  </thead>\n",
       "  <tbody>\n",
       "    <tr>\n",
       "      <th>0</th>\n",
       "      <td>0.990</td>\n",
       "      <td>-0.659</td>\n",
       "      <td>-0.513</td>\n",
       "      <td>48.828</td>\n",
       "      <td>19.653</td>\n",
       "      <td>-45.349</td>\n",
       "    </tr>\n",
       "    <tr>\n",
       "      <th>1</th>\n",
       "      <td>1.047</td>\n",
       "      <td>-0.708</td>\n",
       "      <td>-0.495</td>\n",
       "      <td>49.011</td>\n",
       "      <td>23.010</td>\n",
       "      <td>-47.974</td>\n",
       "    </tr>\n",
       "    <tr>\n",
       "      <th>2</th>\n",
       "      <td>1.072</td>\n",
       "      <td>-0.741</td>\n",
       "      <td>-0.466</td>\n",
       "      <td>46.143</td>\n",
       "      <td>25.085</td>\n",
       "      <td>-46.143</td>\n",
       "    </tr>\n",
       "    <tr>\n",
       "      <th>3</th>\n",
       "      <td>1.089</td>\n",
       "      <td>-0.740</td>\n",
       "      <td>-0.416</td>\n",
       "      <td>40.588</td>\n",
       "      <td>27.100</td>\n",
       "      <td>-42.664</td>\n",
       "    </tr>\n",
       "    <tr>\n",
       "      <th>4</th>\n",
       "      <td>1.103</td>\n",
       "      <td>-0.714</td>\n",
       "      <td>-0.404</td>\n",
       "      <td>32.227</td>\n",
       "      <td>29.724</td>\n",
       "      <td>-39.978</td>\n",
       "    </tr>\n",
       "    <tr>\n",
       "      <th>...</th>\n",
       "      <td>...</td>\n",
       "      <td>...</td>\n",
       "      <td>...</td>\n",
       "      <td>...</td>\n",
       "      <td>...</td>\n",
       "      <td>...</td>\n",
       "    </tr>\n",
       "    <tr>\n",
       "      <th>1185</th>\n",
       "      <td>0.521</td>\n",
       "      <td>-0.213</td>\n",
       "      <td>-0.835</td>\n",
       "      <td>-4.517</td>\n",
       "      <td>-7.935</td>\n",
       "      <td>-3.662</td>\n",
       "    </tr>\n",
       "    <tr>\n",
       "      <th>1186</th>\n",
       "      <td>0.541</td>\n",
       "      <td>-0.218</td>\n",
       "      <td>-0.841</td>\n",
       "      <td>-4.395</td>\n",
       "      <td>-7.141</td>\n",
       "      <td>-3.906</td>\n",
       "    </tr>\n",
       "    <tr>\n",
       "      <th>1187</th>\n",
       "      <td>0.559</td>\n",
       "      <td>-0.225</td>\n",
       "      <td>-0.839</td>\n",
       "      <td>-4.395</td>\n",
       "      <td>-7.385</td>\n",
       "      <td>-4.456</td>\n",
       "    </tr>\n",
       "    <tr>\n",
       "      <th>1188</th>\n",
       "      <td>0.567</td>\n",
       "      <td>-0.224</td>\n",
       "      <td>-0.840</td>\n",
       "      <td>-4.639</td>\n",
       "      <td>-7.874</td>\n",
       "      <td>-4.456</td>\n",
       "    </tr>\n",
       "    <tr>\n",
       "      <th>1189</th>\n",
       "      <td>0.568</td>\n",
       "      <td>-0.226</td>\n",
       "      <td>-0.841</td>\n",
       "      <td>-5.066</td>\n",
       "      <td>-8.545</td>\n",
       "      <td>-3.906</td>\n",
       "    </tr>\n",
       "  </tbody>\n",
       "</table>\n",
       "<p>1190 rows × 6 columns</p>\n",
       "</div>"
      ],
      "text/plain": [
       "         ax     ay     az      gx      gy      gz\n",
       "0     0.990 -0.659 -0.513  48.828  19.653 -45.349\n",
       "1     1.047 -0.708 -0.495  49.011  23.010 -47.974\n",
       "2     1.072 -0.741 -0.466  46.143  25.085 -46.143\n",
       "3     1.089 -0.740 -0.416  40.588  27.100 -42.664\n",
       "4     1.103 -0.714 -0.404  32.227  29.724 -39.978\n",
       "...     ...    ...    ...     ...     ...     ...\n",
       "1185  0.521 -0.213 -0.835  -4.517  -7.935  -3.662\n",
       "1186  0.541 -0.218 -0.841  -4.395  -7.141  -3.906\n",
       "1187  0.559 -0.225 -0.839  -4.395  -7.385  -4.456\n",
       "1188  0.567 -0.224 -0.840  -4.639  -7.874  -4.456\n",
       "1189  0.568 -0.226 -0.841  -5.066  -8.545  -3.906\n",
       "\n",
       "[1190 rows x 6 columns]"
      ]
     },
     "execution_count": 37,
     "metadata": {},
     "output_type": "execute_result"
    }
   ],
   "source": [
    "dfNew"
   ]
  },
  {
   "cell_type": "code",
   "execution_count": 38,
   "id": "3ae4a435",
   "metadata": {},
   "outputs": [],
   "source": [
    "dfNew.to_csv(\"C:\\\\Users\\Saranga\\Desktop\\ENTC ML\\Day 11\\My\\Flex.csv\")"
   ]
  },
  {
   "cell_type": "code",
   "execution_count": null,
   "id": "aa42f53a",
   "metadata": {},
   "outputs": [],
   "source": []
  }
 ],
 "metadata": {
  "kernelspec": {
   "display_name": "Python 3",
   "language": "python",
   "name": "python3"
  },
  "language_info": {
   "codemirror_mode": {
    "name": "ipython",
    "version": 3
   },
   "file_extension": ".py",
   "mimetype": "text/x-python",
   "name": "python",
   "nbconvert_exporter": "python",
   "pygments_lexer": "ipython3",
   "version": "3.8.8"
  }
 },
 "nbformat": 4,
 "nbformat_minor": 5
}
